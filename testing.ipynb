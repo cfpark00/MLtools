{
 "cells": [
  {
   "cell_type": "markdown",
   "metadata": {},
   "source": [
    "### requirements"
   ]
  },
  {
   "cell_type": "code",
   "execution_count": 6,
   "metadata": {},
   "outputs": [],
   "source": [
    "import torch"
   ]
  },
  {
   "cell_type": "markdown",
   "metadata": {},
   "source": [
    "### all import tests"
   ]
  },
  {
   "cell_type": "code",
   "execution_count": 1,
   "metadata": {},
   "outputs": [
    {
     "name": "stderr",
     "output_type": "stream",
     "text": [
      "/n/home12/cfpark00/venv1/lib/python3.10/site-packages/pkg_resources/__init__.py:123: PkgResourcesDeprecationWarning: rch is an invalid version and will not be supported in a future release\n",
      "  warnings.warn(\n",
      "/n/home12/cfpark00/venv1/lib/python3.10/site-packages/pkg_resources/__init__.py:123: PkgResourcesDeprecationWarning: rch is an invalid version and will not be supported in a future release\n",
      "  warnings.warn(\n"
     ]
    }
   ],
   "source": [
    "# utils\n",
    "from mltools.utils import cuda_tools\n",
    "\n",
    "# single file modules\n",
    "from mltools.distributions import DiagonalGaussianDistribution\n",
    "from mltools.losses import MultiScaleMSE\n",
    "\n",
    "# networks\n",
    "from mltools.networks.blocks import AttnBlock, ResNetBlock, ResNetDown, ResNetUp\n",
    "from mltools.networks.network_tools import zero_init, get_conv, get_timestep_embedding\n",
    "from mltools.networks.networks import CUNet, Encoder, Decoder\n",
    "\n",
    "# models\n",
    "from mltools.models.model_tools import kl_std_normal, FixedLinearSchedule, SigmoidSchedule, LearnedLinearSchedule, NNSchedule\n",
    "from mltools.models.vae_model import AutoencoderKL\n",
    "from mltools.models.vdm_model import VDM, LightVDM\n",
    "\n",
    "# h5\n",
    "from mltools.h5 import h5_tools\n",
    "\n",
    "# connectomics\n",
    "from mltools.connectomics import ConnectomicsDataset\n",
    "from mltools.connectomics import connectomics_tools"
   ]
  },
  {
   "cell_type": "code",
   "execution_count": null,
   "metadata": {},
   "outputs": [],
   "source": []
  },
  {
   "cell_type": "code",
   "execution_count": 4,
   "metadata": {},
   "outputs": [
    {
     "name": "stdout",
     "output_type": "stream",
     "text": [
      "memory_available [78291]\n",
      "best GPU: 0\n"
     ]
    }
   ],
   "source": [
    "from mltools.utils import cuda_tools\n",
    "device=cuda_tools.get_freer_device()"
   ]
  },
  {
   "cell_type": "code",
   "execution_count": null,
   "metadata": {},
   "outputs": [],
   "source": []
  },
  {
   "cell_type": "code",
   "execution_count": 2,
   "metadata": {},
   "outputs": [
    {
     "data": {
      "text/plain": [
       "(torch.Size([1, 3, 256, 256]), torch.Size([1, 3, 256, 256]))"
      ]
     },
     "execution_count": 2,
     "metadata": {},
     "output_type": "execute_result"
    }
   ],
   "source": [
    "from mltools.models.vae_model import AutoencoderKL\n",
    "enc_dec_params = dict(\n",
    "    shape=(3,256,256),\n",
    "    chs=[48, 96, 192],\n",
    "    attn_sizes=[],\n",
    "    mid_attn=False,\n",
    "    num_res_blocks=1,\n",
    "    dropout_prob=0.0,\n",
    "    z_channels=4,\n",
    "    double_z=True,\n",
    "    n_attention_heads=1,\n",
    "    norm_groups=8,\n",
    "    norm_eps=1e-6,\n",
    "    norm_affine=True,\n",
    "    act=\"gelu\",\n",
    "    conv_kernel_size=3,\n",
    "    conv_padding_mode=\"zeros\",\n",
    ")\n",
    "vae=AutoencoderKL(enc_dec_params=enc_dec_params)\n",
    "vae=vae.to(device)\n",
    "x=torch.rand(1,3,256,256).to(device)\n",
    "x_rec=vae.get_reconstuctions(x)\n",
    "x.shape,x_rec.shape"
   ]
  },
  {
   "cell_type": "code",
   "execution_count": 26,
   "metadata": {},
   "outputs": [],
   "source": [
    "from mltools.networks.networks import CUNet\n",
    "shape=(3,256,256)\n",
    "score_model=CUNet(\n",
    "    shape=shape,\n",
    "    chs=[48, 48, 192, 200],\n",
    "    s_conditioning_channels=2,\n",
    "    v_conditioning_dims = [3,6],\n",
    "    v_embedding_dim = 64,\n",
    "    t_conditioning=True,\n",
    "    t_embedding_dim=64,\n",
    "    mid_attn=True,\n",
    "    dropout_prob=0.0,\n",
    "    n_attention_heads=1,\n",
    "    norm_groups=8,\n",
    "    conv_padding_mode=\"zeros\",\n",
    ")\n",
    "score_model=score_model.to(device)\n",
    "batch_size=2\n",
    "x=torch.randn(batch_size,*shape).to(device)\n",
    "t=torch.randn(batch_size).to(device)\n",
    "s=torch.randn(batch_size,2,*shape[1:]).to(device)\n",
    "v=[torch.randn(batch_size,3).to(device),torch.randn(batch_size,6).to(device)]"
   ]
  },
  {
   "cell_type": "code",
   "execution_count": 27,
   "metadata": {},
   "outputs": [
    {
     "data": {
      "text/plain": [
       "(torch.Size([2, 3, 256, 256]), torch.Size([2, 3, 256, 256]))"
      ]
     },
     "execution_count": 27,
     "metadata": {},
     "output_type": "execute_result"
    }
   ],
   "source": [
    "res=score_model(x,t=t,s_conditioning=s,v_conditionings=v)\n",
    "x.shape,res.shape"
   ]
  },
  {
   "cell_type": "code",
   "execution_count": 31,
   "metadata": {},
   "outputs": [],
   "source": [
    "from mltools.models.vdm_model import VDM\n",
    "vdm=VDM(\n",
    "    score_model=score_model,\n",
    "    noise_schedule= \"fixed_linear\",\n",
    "    gamma_min = -13.3,\n",
    "    gamma_max = 5.0,\n",
    "    antithetic_time_sampling = True,\n",
    "    image_shape = shape,\n",
    "    data_noise = 1.0e-3,\n",
    ")\n",
    "vdm=vdm.to(device)"
   ]
  },
  {
   "cell_type": "code",
   "execution_count": 32,
   "metadata": {},
   "outputs": [
    {
     "data": {
      "text/plain": [
       "torch.Size([2, 3, 256, 256])"
      ]
     },
     "execution_count": 32,
     "metadata": {},
     "output_type": "execute_result"
    }
   ],
   "source": [
    "res=vdm.sample(batch_size=batch_size,conditioning=s,conditioning_values=v,n_sampling_steps=50,device=device)\n",
    "res.shape"
   ]
  },
  {
   "cell_type": "code",
   "execution_count": null,
   "metadata": {},
   "outputs": [],
   "source": []
  },
  {
   "cell_type": "code",
   "execution_count": 1,
   "metadata": {},
   "outputs": [
    {
     "name": "stdout",
     "output_type": "stream",
     "text": [
      "memory_available [78291]\n",
      "best GPU: 0\n"
     ]
    }
   ],
   "source": [
    "from mltools.utils import cuda_tools\n",
    "device=cuda_tools.get_freer_device()\n",
    "import torch"
   ]
  },
  {
   "cell_type": "code",
   "execution_count": null,
   "metadata": {},
   "outputs": [],
   "source": []
  }
 ],
 "metadata": {
  "kernelspec": {
   "display_name": "venv1",
   "language": "python",
   "name": "python3"
  },
  "language_info": {
   "codemirror_mode": {
    "name": "ipython",
    "version": 3
   },
   "file_extension": ".py",
   "mimetype": "text/x-python",
   "name": "python",
   "nbconvert_exporter": "python",
   "pygments_lexer": "ipython3",
   "version": "3.10.9"
  },
  "orig_nbformat": 4
 },
 "nbformat": 4,
 "nbformat_minor": 2
}
