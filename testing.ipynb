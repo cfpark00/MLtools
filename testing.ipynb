{
 "cells": [
  {
   "cell_type": "markdown",
   "metadata": {},
   "source": [
    "### requirements"
   ]
  },
  {
   "cell_type": "code",
   "execution_count": 6,
   "metadata": {},
   "outputs": [],
   "source": [
    "import torch"
   ]
  },
  {
   "cell_type": "markdown",
   "metadata": {},
   "source": [
    "### all import tests"
   ]
  },
  {
   "cell_type": "code",
   "execution_count": 1,
   "metadata": {},
   "outputs": [
    {
     "name": "stderr",
     "output_type": "stream",
     "text": [
      "/n/home12/cfpark00/venv1/lib/python3.10/site-packages/pkg_resources/__init__.py:123: PkgResourcesDeprecationWarning: rch is an invalid version and will not be supported in a future release\n",
      "  warnings.warn(\n",
      "/n/home12/cfpark00/venv1/lib/python3.10/site-packages/pkg_resources/__init__.py:123: PkgResourcesDeprecationWarning: rch is an invalid version and will not be supported in a future release\n",
      "  warnings.warn(\n"
     ]
    }
   ],
   "source": [
    "# utils\n",
    "from mltools.utils import cuda_tools\n",
    "\n",
    "# single file modules\n",
    "from mltools.distributions import DiagonalGaussianDistribution\n",
    "from mltools.losses import MultiScaleMSE\n",
    "\n",
    "# networks\n",
    "from mltools.networks.blocks import AttnBlock, ResNetBlock, ResNetDown, ResNetUp\n",
    "from mltools.networks.network_tools import zero_init, get_conv, get_timestep_embedding\n",
    "from mltools.networks.networks import CUNet, Encoder, Decoder\n",
    "\n",
    "# models\n",
    "from mltools.models.model_tools import kl_std_normal, FixedLinearSchedule, SigmoidSchedule, LearnedLinearSchedule, NNSchedule\n",
    "from mltools.models.vae_model import AutoencoderKL\n",
    "from mltools.models.vdm_model import VDM, LightVDM\n",
    "\n",
    "# h5\n",
    "from mltools.h5 import h5_tools\n",
    "\n",
    "# connectomics\n",
    "from mltools.connectomics import ConnectomicsDataset\n",
    "from mltools.connectomics import connectomics_tools"
   ]
  },
  {
   "cell_type": "code",
   "execution_count": null,
   "metadata": {},
   "outputs": [],
   "source": []
  },
  {
   "cell_type": "code",
   "execution_count": 4,
   "metadata": {},
   "outputs": [
    {
     "name": "stdout",
     "output_type": "stream",
     "text": [
      "memory_available [78291]\n",
      "best GPU: 0\n"
     ]
    }
   ],
   "source": [
    "from mltools.utils import cuda_tools\n",
    "device=cuda_tools.get_freer_device()"
   ]
  },
  {
   "cell_type": "code",
   "execution_count": null,
   "metadata": {},
   "outputs": [],
   "source": []
  },
  {
   "cell_type": "code",
   "execution_count": 2,
   "metadata": {},
   "outputs": [
    {
     "data": {
      "text/plain": [
       "(torch.Size([1, 3, 256, 256]), torch.Size([1, 3, 256, 256]))"
      ]
     },
     "execution_count": 2,
     "metadata": {},
     "output_type": "execute_result"
    }
   ],
   "source": [
    "from mltools.models.vae_model import AutoencoderKL\n",
    "enc_dec_params = dict(\n",
    "    shape=(3,256,256),\n",
    "    chs=[48, 96, 192],\n",
    "    attn_sizes=[],\n",
    "    mid_attn=False,\n",
    "    num_res_blocks=1,\n",
    "    dropout_prob=0.0,\n",
    "    z_channels=4,\n",
    "    double_z=True,\n",
    "    n_attention_heads=1,\n",
    "    norm_groups=8,\n",
    "    norm_eps=1e-6,\n",
    "    norm_affine=True,\n",
    "    act=\"gelu\",\n",
    "    conv_kernel_size=3,\n",
    "    conv_padding_mode=\"zeros\",\n",
    ")\n",
    "vae=AutoencoderKL(enc_dec_params=enc_dec_params)\n",
    "vae=vae.to(device)\n",
    "x=torch.rand(1,3,256,256).to(device)\n",
    "x_rec=vae.get_reconstuctions(x)\n",
    "x.shape,x_rec.shape"
   ]
  },
  {
   "cell_type": "code",
   "execution_count": 26,
   "metadata": {},
   "outputs": [],
   "source": [
    "from mltools.networks.networks import CUNet\n",
    "shape=(3,256,256)\n",
    "score_model=CUNet(\n",
    "    shape=shape,\n",
    "    chs=[48, 48, 192, 200],\n",
    "    s_conditioning_channels=2,\n",
    "    v_conditioning_dims = [3,6],\n",
    "    v_embedding_dim = 64,\n",
    "    t_conditioning=True,\n",
    "    t_embedding_dim=64,\n",
    "    mid_attn=True,\n",
    "    dropout_prob=0.0,\n",
    "    n_attention_heads=1,\n",
    "    norm_groups=8,\n",
    "    conv_padding_mode=\"zeros\",\n",
    ")\n",
    "score_model=score_model.to(device)\n",
    "batch_size=2\n",
    "x=torch.randn(batch_size,*shape).to(device)\n",
    "t=torch.randn(batch_size).to(device)\n",
    "s=torch.randn(batch_size,2,*shape[1:]).to(device)\n",
    "v=[torch.randn(batch_size,3).to(device),torch.randn(batch_size,6).to(device)]"
   ]
  },
  {
   "cell_type": "code",
   "execution_count": 27,
   "metadata": {},
   "outputs": [
    {
     "data": {
      "text/plain": [
       "(torch.Size([2, 3, 256, 256]), torch.Size([2, 3, 256, 256]))"
      ]
     },
     "execution_count": 27,
     "metadata": {},
     "output_type": "execute_result"
    }
   ],
   "source": [
    "res=score_model(x,t=t,s_conditioning=s,v_conditionings=v)\n",
    "x.shape,res.shape"
   ]
  },
  {
   "cell_type": "code",
   "execution_count": 31,
   "metadata": {},
   "outputs": [],
   "source": [
    "from mltools.models.vdm_model import VDM\n",
    "vdm=VDM(\n",
    "    score_model=score_model,\n",
    "    noise_schedule= \"fixed_linear\",\n",
    "    gamma_min = -13.3,\n",
    "    gamma_max = 5.0,\n",
    "    antithetic_time_sampling = True,\n",
    "    image_shape = shape,\n",
    "    data_noise = 1.0e-3,\n",
    ")\n",
    "vdm=vdm.to(device)"
   ]
  },
  {
   "cell_type": "code",
   "execution_count": 32,
   "metadata": {},
   "outputs": [
    {
     "data": {
      "text/plain": [
       "torch.Size([2, 3, 256, 256])"
      ]
     },
     "execution_count": 32,
     "metadata": {},
     "output_type": "execute_result"
    }
   ],
   "source": [
    "res=vdm.sample(batch_size=batch_size,conditioning=s,conditioning_values=v,n_sampling_steps=50,device=device)\n",
    "res.shape"
   ]
  },
  {
   "cell_type": "code",
   "execution_count": null,
   "metadata": {},
   "outputs": [],
   "source": []
  },
  {
   "cell_type": "code",
   "execution_count": 1,
   "metadata": {},
   "outputs": [
    {
     "name": "stdout",
     "output_type": "stream",
     "text": [
      "memory_available [78291]\n",
      "best GPU: 0\n"
     ]
    }
   ],
   "source": [
    "from mltools.utils import cuda_tools\n",
    "device=cuda_tools.get_freer_device()\n",
    "import torch"
   ]
  },
  {
   "cell_type": "markdown",
   "metadata": {},
   "source": [
    "## SFM"
   ]
  },
  {
   "cell_type": "code",
   "execution_count": 66,
   "metadata": {},
   "outputs": [
    {
     "name": "stdout",
     "output_type": "stream",
     "text": [
      "memory_available [78995]\n",
      "best GPU: 0\n"
     ]
    }
   ],
   "source": [
    "from mltools.utils import cuda_tools\n",
    "device=cuda_tools.get_freer_device()\n",
    "import torch\n",
    "\n",
    "import mltools.models.sfm_model as sfm_model\n",
    "import mltools.networks.networks as networks"
   ]
  },
  {
   "cell_type": "code",
   "execution_count": 67,
   "metadata": {},
   "outputs": [
    {
     "data": {
      "text/plain": [
       "<module 'mltools.models.sfm_model' from '/n/home12/cfpark00/MLtools/mltools/models/sfm_model.py'>"
      ]
     },
     "execution_count": 67,
     "metadata": {},
     "output_type": "execute_result"
    }
   ],
   "source": [
    "import importlib\n",
    "importlib.reload(sfm_model)"
   ]
  },
  {
   "cell_type": "code",
   "execution_count": 68,
   "metadata": {},
   "outputs": [],
   "source": [
    "shape=(1,256,256)\n",
    "conditioning_channels=1"
   ]
  },
  {
   "cell_type": "code",
   "execution_count": 69,
   "metadata": {},
   "outputs": [],
   "source": [
    "net=networks.CUNet(shape=shape,s_conditioning_channels=1,t_conditioning=True)\n",
    "net=net.to(device)"
   ]
  },
  {
   "cell_type": "code",
   "execution_count": 70,
   "metadata": {},
   "outputs": [],
   "source": [
    "x0=torch.randn(1,*shape).to(device)\n",
    "x1=torch.randn(1,*shape).to(device)"
   ]
  },
  {
   "cell_type": "code",
   "execution_count": 71,
   "metadata": {},
   "outputs": [
    {
     "data": {
      "text/plain": [
       "tensor(3.9954, device='cuda:0', grad_fn=<MeanBackward0>)"
      ]
     },
     "execution_count": 71,
     "metadata": {},
     "output_type": "execute_result"
    }
   ],
   "source": [
    "sfm=sfm_model.LightSFM(velocity_model=net)\n",
    "sfm.sfm.compute_loss(x0=x0,x1=x1)"
   ]
  },
  {
   "cell_type": "code",
   "execution_count": 72,
   "metadata": {},
   "outputs": [
    {
     "name": "stderr",
     "output_type": "stream",
     "text": [
      "Integrating...: 100%|██████████| 100/100 [00:00<00:00, 145.47it/s]\n"
     ]
    },
    {
     "data": {
      "text/plain": [
       "torch.Size([1, 1, 256, 256])"
      ]
     },
     "execution_count": 72,
     "metadata": {},
     "output_type": "execute_result"
    }
   ],
   "source": [
    "sfm.sfm.predict(x0,verbose=1).shape"
   ]
  },
  {
   "cell_type": "code",
   "execution_count": null,
   "metadata": {},
   "outputs": [],
   "source": []
  },
  {
   "cell_type": "code",
   "execution_count": 3,
   "metadata": {},
   "outputs": [],
   "source": [
    "import torch\n",
    "import importlib"
   ]
  },
  {
   "cell_type": "code",
   "execution_count": 4,
   "metadata": {},
   "outputs": [
    {
     "data": {
      "text/plain": [
       "<module 'mltools.models.gpt_model' from '/n/home12/cfpark00/MLtools/mltools/models/gpt_model.py'>"
      ]
     },
     "execution_count": 4,
     "metadata": {},
     "output_type": "execute_result"
    }
   ],
   "source": [
    "from mltools.networks import blocks\n",
    "from mltools.networks import networks\n",
    "from mltools.models import gpt_model\n",
    "from mltools.models import configs\n",
    "importlib.reload(configs)\n",
    "importlib.reload(blocks)\n",
    "importlib.reload(networks)\n",
    "importlib.reload(gpt_model)"
   ]
  },
  {
   "cell_type": "code",
   "execution_count": 5,
   "metadata": {},
   "outputs": [],
   "source": [
    "c=configs.GPTConfig(\n",
    "    block_size=1024,\n",
    "    tokenized=True,\n",
    "    in_size=5000,\n",
    "    n_layer= 4,\n",
    "    n_head = 4,\n",
    "    n_embd = 128,\n",
    "    dropout = 0.0,\n",
    "    bias = True,\n",
    "    causal = True,\n",
    "    verbose=0\n",
    ")"
   ]
  },
  {
   "cell_type": "code",
   "execution_count": 6,
   "metadata": {},
   "outputs": [],
   "source": [
    "transformer=networks.Transformer(c)"
   ]
  },
  {
   "cell_type": "code",
   "execution_count": 7,
   "metadata": {},
   "outputs": [],
   "source": [
    "gpt=gpt_model.GPT(transformer)"
   ]
  },
  {
   "cell_type": "code",
   "execution_count": 8,
   "metadata": {},
   "outputs": [
    {
     "data": {
      "text/plain": [
       "torch.Size([1, 2, 5000])"
      ]
     },
     "execution_count": 8,
     "metadata": {},
     "output_type": "execute_result"
    }
   ],
   "source": [
    "gpt(torch.randint(0,256,(1,2))).shape"
   ]
  },
  {
   "cell_type": "code",
   "execution_count": null,
   "metadata": {},
   "outputs": [],
   "source": []
  },
  {
   "cell_type": "code",
   "execution_count": 30,
   "metadata": {},
   "outputs": [],
   "source": [
    "sa=blocks.SelfAttentionBlock(c)"
   ]
  },
  {
   "cell_type": "code",
   "execution_count": 32,
   "metadata": {},
   "outputs": [
    {
     "data": {
      "text/plain": [
       "torch.Size([1, 4, 128])"
      ]
     },
     "execution_count": 32,
     "metadata": {},
     "output_type": "execute_result"
    }
   ],
   "source": [
    "sa(torch.randn(1,4,128)).shape"
   ]
  },
  {
   "cell_type": "code",
   "execution_count": null,
   "metadata": {},
   "outputs": [],
   "source": []
  },
  {
   "cell_type": "code",
   "execution_count": null,
   "metadata": {},
   "outputs": [],
   "source": []
  },
  {
   "cell_type": "code",
   "execution_count": null,
   "metadata": {},
   "outputs": [],
   "source": []
  },
  {
   "cell_type": "code",
   "execution_count": 10,
   "metadata": {},
   "outputs": [
    {
     "data": {
      "text/plain": [
       "GPTConfig(block_size=1024, vocab_size=50304, n_layer=12, n_head=12, n_embd=768, dropout=0.0, bias=True, causal=True)"
      ]
     },
     "execution_count": 10,
     "metadata": {},
     "output_type": "execute_result"
    }
   ],
   "source": [
    "c"
   ]
  },
  {
   "cell_type": "code",
   "execution_count": 5,
   "metadata": {},
   "outputs": [
    {
     "data": {
      "text/plain": [
       "tensor([[[[0.9182, 0.1021, 0.3288,  ..., 0.8417, 0.3836, 0.4547],\n",
       "          [0.7041, 0.4940, 0.6841,  ..., 0.4371, 0.2962, 0.3629],\n",
       "          [0.9874, 0.6139, 0.5383,  ..., 0.0901, 0.6551, 0.0013],\n",
       "          ...,\n",
       "          [0.8798, 0.4551, 0.7846,  ..., 0.6416, 0.9386, 0.1934],\n",
       "          [0.7632, 0.7251, 0.6380,  ..., 0.2853, 0.9538, 0.9870],\n",
       "          [0.4061, 0.3605, 0.5263,  ..., 0.8869, 0.2065, 0.7958]],\n",
       "\n",
       "         [[0.8947, 0.6882, 0.0060,  ..., 0.1786, 0.1728, 0.4353],\n",
       "          [0.7298, 0.4708, 0.4322,  ..., 0.6245, 0.3530, 0.5798],\n",
       "          [0.8705, 0.2484, 0.8823,  ..., 0.0433, 0.2844, 0.7832],\n",
       "          ...,\n",
       "          [0.1817, 0.2483, 0.7453,  ..., 0.5360, 0.2481, 0.2466],\n",
       "          [0.1852, 0.2051, 0.8311,  ..., 0.1764, 0.5672, 0.7622],\n",
       "          [0.8441, 0.7272, 0.6660,  ..., 0.2331, 0.3785, 0.2704]],\n",
       "\n",
       "         [[0.3158, 0.0558, 0.7052,  ..., 0.3508, 0.2991, 0.4315],\n",
       "          [0.8077, 0.9275, 0.0672,  ..., 0.3478, 0.3862, 0.0666],\n",
       "          [0.6117, 0.1628, 0.0806,  ..., 0.5721, 0.8138, 0.1726],\n",
       "          ...,\n",
       "          [0.7756, 0.4572, 0.0621,  ..., 0.4196, 0.8383, 0.5951],\n",
       "          [0.2951, 0.3355, 0.5148,  ..., 0.9729, 0.4234, 0.4904],\n",
       "          [0.6733, 0.4865, 0.1407,  ..., 0.0162, 0.8966, 0.4128]]]])"
      ]
     },
     "execution_count": 5,
     "metadata": {},
     "output_type": "execute_result"
    }
   ],
   "source": [
    "x=torch.rand(1,3,256,256).type_as(torch.FloatTensor()).to(device)   \n",
    "x"
   ]
  },
  {
   "cell_type": "code",
   "execution_count": null,
   "metadata": {},
   "outputs": [],
   "source": []
  },
  {
   "cell_type": "code",
   "execution_count": null,
   "metadata": {},
   "outputs": [],
   "source": []
  },
  {
   "cell_type": "code",
   "execution_count": null,
   "metadata": {},
   "outputs": [],
   "source": []
  },
  {
   "cell_type": "code",
   "execution_count": null,
   "metadata": {},
   "outputs": [],
   "source": []
  },
  {
   "cell_type": "code",
   "execution_count": 6,
   "metadata": {},
   "outputs": [
    {
     "data": {
      "text/plain": [
       "4"
      ]
     },
     "execution_count": 6,
     "metadata": {},
     "output_type": "execute_result"
    }
   ],
   "source": [
    "x.dim()"
   ]
  },
  {
   "cell_type": "code",
   "execution_count": null,
   "metadata": {},
   "outputs": [],
   "source": []
  }
 ],
 "metadata": {
  "kernelspec": {
   "display_name": "venv1",
   "language": "python",
   "name": "python3"
  },
  "language_info": {
   "codemirror_mode": {
    "name": "ipython",
    "version": 3
   },
   "file_extension": ".py",
   "mimetype": "text/x-python",
   "name": "python",
   "nbconvert_exporter": "python",
   "pygments_lexer": "ipython3",
   "version": "3.10.9"
  },
  "orig_nbformat": 4
 },
 "nbformat": 4,
 "nbformat_minor": 2
}
